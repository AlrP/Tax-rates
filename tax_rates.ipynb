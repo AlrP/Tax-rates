{
 "cells": [
  {
   "cell_type": "markdown",
   "metadata": {},
   "source": [
    "###  Оптимальная шкала средних ставок подоходного налога:"
   ]
  },
  {
   "cell_type": "markdown",
   "metadata": {},
   "source": [
    " \n",
    "\n",
    " \\begin{equation*}\n",
    "\ty_{opt}(x) = \n",
    "\t \\begin{cases}\n",
    "\t  \ty_- ,   &0\\leq x<x_-,  \\\\\n",
    " \t  \t1 - \\left ( \\frac{x_-}{x} \\right )^\\sigma , &x_-\\leq x<x_0,  \\\\\n",
    "        1 -(1-y_+) \\left ( \\frac{x_+}{x} \\right )^\\delta , &x_0\\leq x \\leq x_+,  \\\\\n",
    "        y_+ , &x>x_+;  \\\\\n",
    "\t \\end{cases}\n",
    " \\end{equation*}\n",
    "\n"
   ]
  },
  {
   "cell_type": "markdown",
   "metadata": {},
   "source": [
    "#### Суммарные налоговые поступления"
   ]
  },
  {
   "cell_type": "markdown",
   "metadata": {},
   "source": [
    "$$T(y,f) = \\int_{x_-}^{\\infty} y(x) dI(x)$$ где I(x) - суммарный доход тех, чей доход <x"
   ]
  },
  {
   "cell_type": "markdown",
   "metadata": {},
   "source": [
    "#### Суммарный доход тех, чей доход < x"
   ]
  },
  {
   "cell_type": "markdown",
   "metadata": {},
   "source": [
    "$$I(x) = m\\int_{0}^{x} f(t)t  dt$$где f(t) - плотность распределения доходов \n",
    "m - "
   ]
  },
  {
   "cell_type": "code",
   "execution_count": 1,
   "metadata": {},
   "outputs": [],
   "source": [
    "import ipywidgets as widgets\n",
    "import numpy as np\n",
    "import matplotlib.pyplot as plt\n",
    "from scipy.integrate import simps\n",
    "import scipy.stats as st\n",
    "import pandas as pd\n",
    "%matplotlib inline\n",
    "%config InlineBackend.figure_format = 'retina'\n",
    "plt.style.use('ggplot')"
   ]
  },
  {
   "cell_type": "markdown",
   "metadata": {},
   "source": [
    "### Калькулятор оптимальной шкалы ставок и налоговых поступлений:"
   ]
  },
  {
   "cell_type": "code",
   "execution_count": 2,
   "metadata": {
    "scrolled": false
   },
   "outputs": [
    {
     "data": {
      "application/vnd.jupyter.widget-view+json": {
       "model_id": "6e90c8e242644296b5202619f9232ddc",
       "version_major": 2,
       "version_minor": 0
      },
      "text/plain": [
       "interactive(children=(IntText(value=9828, description='X_:'), IntText(value=5, description='Коэф. Xо:'), IntTe…"
      ]
     },
     "metadata": {},
     "output_type": "display_data"
    },
    {
     "data": {
      "text/plain": [
       "<function __main__.parameters>"
      ]
     },
     "execution_count": 2,
     "metadata": {},
     "output_type": "execute_result"
    }
   ],
   "source": [
    "def parameters(x_,kx_zero,kx_plus, y_plus, y_zero, nu, sgm, empl):\n",
    "    print(15*'.','Итоговые значения:',15*'.')\n",
    "    print('Прожиточный минимум - ' , str(x_)+',', 'за год - ', 12*x_)\n",
    "    print('Нижняя граница доходов среднего класса:' ,12*kx_zero*x_)\n",
    "    print('Размер дохода налогоплательщица, начиная с которого доход взимается по максимальной средней ставке у+:' ,12*kx_plus*x_)\n",
    "    print('Максимальная ставка подоходного налога:', y_plus,'%')\n",
    "    print(50*'.')\n",
    "    left_border = 1-(1-y_plus/100)**((np.log(12*x_) - np.log(12*kx_zero*x_))/(np.log(12*x_) - np.log(12*kx_plus*x_)))\n",
    "    #print('{0:.4f}'.format(left_border), ' < Yo < ', np.min([y_plus/100, 1-1/kx_zero]))\n",
    "    print( int(left_border*100),'%', ' < Y0 < ', int(100*np.min([y_plus/100, 1-1/kx_zero])),'%')\n",
    "    \n",
    "    yos = np.arange(int(left_border*100)+1,int(100*np.min([y_plus/100, 1-1/kx_zero])))\n",
    "    table = pd.DataFrame([str(yos[i])+'%' for i in range(len(yos))], columns=['Y0'])\n",
    "    \n",
    "    table.loc[:, 'delta'] = [(np.log((1-yos[i]/100)/(1-y_plus/100))/np.log(kx_plus/kx_zero)) for i in range(len(yos))]\n",
    "    table.loc[:, 'sigma'] = [np.log(1-yos[i]/100)/np.log(1/kx_zero) for i in range(len(yos))]\n",
    "    \n",
    "    print('Заданная граница макс дохода =',12*kx_plus*x_*1.05)\n",
    "    print(50*'.')\n",
    "    s=[0 for i in range(len(yos))]    \n",
    "    for i in range(len(yos)):\n",
    "        x1 = np.arange(0, 12*x_, 1)\n",
    "        x2 = np.arange(12*x_, 12*kx_zero*x_, 1)\n",
    "        x3 = np.arange(12*kx_zero*x_, 12*kx_plus*x_, 1)\n",
    "        x4 = np.arange(12*kx_plus*x_, 9999999, 1)\n",
    "\n",
    "        y1 = 0*x1\n",
    "        y2 = 1-(12*x_/x2)**table['sigma'][i]\n",
    "        y3 = 1-(1-y_plus/100)*((12*kx_plus*x_/x3)**table['delta'][i])\n",
    "        y4 = np.full(len(x4),y_plus/100)\n",
    "            \n",
    "        T1 = y1*st.lognorm.pdf(x1, 1, loc=nu, scale=sgm)*empl*x1\n",
    "        T2 = y2*st.lognorm.pdf(x2, 1, loc=nu, scale=sgm)*empl*x2\n",
    "        T3 = y3*st.lognorm.pdf(x3, 1, loc=nu, scale=sgm)*empl*x3\n",
    "        T4 = y4*st.lognorm.pdf(x4, 1, loc=nu, scale=sgm)*empl*x4\n",
    "\n",
    "        xs = [x1,x2,x3,x4]\n",
    "        ys = [T1,T2,T3,T4]\n",
    " \n",
    "        for x,y in zip(xs,ys):\n",
    "            s[i] += simps(y, x)\n",
    "        \n",
    "    table.loc[:, 'Налоговые пост.'] = s\n",
    "    table['Поступления, млрд. руб.'] = (table['Налоговые пост.'].astype(float)/1000000000).astype(str) + ' млрд. руб.'\n",
    "    \n",
    "    print(table)\n",
    "    #table.to_excel(pd.ExcelWriter('Расчеты.xlsx', engine='xlsxwriter'),)\n",
    "    print(50*'.') \n",
    "    cols =[(0/255, 183/255, 213/255),(3/255, 209/255, 175/255),(230/255, 158/255, 0/255),(255/255, 112/255, 67/255)]\n",
    "\n",
    "    plt.rcParams['figure.figsize'] = [15, 6]\n",
    "    plt.rcParams['figure.edgecolor'] = 'blue'\n",
    "    plt.rcParams['axes.facecolor'] = 'white'\n",
    "    plt.rcParams['axes.edgecolor'] = 'white'\n",
    "    plt.rcParams['figure.facecolor'] = 'white'\n",
    "    plt.rcParams['font.size'] = 17\n",
    "    plt.rcParams['text.color'] = (43/255, 43/255, 43/255)\n",
    "    plt.rcParams['grid.color'] = (231/255, 243/255, 247/255)\n",
    "    plt.rcParams['grid.linestyle'] = '-'\n",
    "    plt.rcParams['axes.labelcolor'] = (43/255, 43/255, 43/255)\n",
    "    plt.rcParams['xtick.color'] = (43/255, 43/255, 43/255)\n",
    "    plt.rcParams['ytick.color'] = (43/255, 43/255, 43/255)\n",
    "    plt.ylabel('Y', size=17)\n",
    "    plt.xlabel('\\nДоход', size=22)\n",
    "\n",
    "    for y_zero in yos:\n",
    "        #Прорисовка графика\n",
    "        x1 = np.arange(0,12*x_,1)\n",
    "        x2 = np.arange(12*x_,12*kx_zero*x_,1)\n",
    "        x3 = np.arange(12*kx_zero*x_,12*kx_plus*x_,1)\n",
    "        x4 = np.arange(12*kx_plus*x_, 12*kx_plus*x_*1.05,1)\n",
    "        ########\n",
    "        y1 = 0*x1\n",
    "        y2 =1-(12*x_/x2)**(np.log(1-y_zero/100)/np.log(1/kx_zero))\n",
    "        y3 = 1-(1-y_plus/100)*((12*kx_plus*x_/x3)**(np.log((1-y_zero/100)/(1-y_plus/100))/np.log(kx_plus/kx_zero)))\n",
    "        y4 = np.full(len(x4),y_plus/100)\n",
    "        ########\n",
    "        xs = [x1,x2,x3,x4]\n",
    "        ys = [y1,y2,y3,y4] \n",
    "        sm = 0\n",
    "        for i,j,c in zip(xs,ys,cols):\n",
    "            plt.plot(i,j, color=c)\n",
    "            \n",
    "widgets.interact(parameters, \n",
    "\n",
    "                 x_ = widgets.IntText(\n",
    "                    value=9828,\n",
    "                    description='X_:',\n",
    "                    disabled=False),\n",
    "                 kx_zero = widgets.IntText(\n",
    "                    value=5,\n",
    "                    description='Коэф. Xо:',\n",
    "                    disabled=False),\n",
    "                 kx_plus = widgets.IntText(\n",
    "                    value=20,\n",
    "                    description='Коэф. X+:',\n",
    "                    disabled=False),\n",
    "                 y_plus = widgets.IntText(\n",
    "                    value=25,\n",
    "                    description='Y+,%:',\n",
    "                    disabled=False),\n",
    "                 y_zero = widgets.IntText(\n",
    "                    value=15,\n",
    "                    description='Выбран Yo,%:',\n",
    "                    disabled=False),\n",
    "                 nu = widgets.FloatText(\n",
    "                    value=29376.5,\n",
    "                    description='mean wage:',\n",
    "                    disabled=False),\n",
    "                 sgm = widgets.FloatText(\n",
    "                    value=21606.43417,\n",
    "                    description='std wage:',\n",
    "                    disabled=False),\n",
    "                 empl = widgets.FloatText(\n",
    "                    value=72392628,\n",
    "                    description='num of empl',\n",
    "                    disabled=False),\n",
    "                )"
   ]
  },
  {
   "cell_type": "code",
   "execution_count": null,
   "metadata": {},
   "outputs": [],
   "source": []
  },
  {
   "cell_type": "code",
   "execution_count": null,
   "metadata": {},
   "outputs": [],
   "source": []
  },
  {
   "cell_type": "code",
   "execution_count": null,
   "metadata": {},
   "outputs": [],
   "source": []
  }
 ],
 "metadata": {
  "kernelspec": {
   "display_name": "Python 3",
   "language": "python",
   "name": "python3"
  },
  "language_info": {
   "codemirror_mode": {
    "name": "ipython",
    "version": 3
   },
   "file_extension": ".py",
   "mimetype": "text/x-python",
   "name": "python",
   "nbconvert_exporter": "python",
   "pygments_lexer": "ipython3",
   "version": "3.6.4"
  },
  "widgets": {
   "state": {
    "351d18f8e7a047beac318ea63fed2b8f": {
     "views": [
      {
       "cell_index": 8
      }
     ]
    }
   },
   "version": "1.2.0"
  }
 },
 "nbformat": 4,
 "nbformat_minor": 2
}
